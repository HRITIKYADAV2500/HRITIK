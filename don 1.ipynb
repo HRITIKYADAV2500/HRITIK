{
 "cells": [
  {
   "cell_type": "code",
   "execution_count": 1,
   "id": "c8f7953e",
   "metadata": {},
   "outputs": [
    {
     "name": "stdout",
     "output_type": "stream",
     "text": [
      "hello world\n"
     ]
    }
   ],
   "source": [
    "print('hello world')"
   ]
  },
  {
   "cell_type": "code",
   "execution_count": 2,
   "id": "51eacde8",
   "metadata": {},
   "outputs": [
    {
     "name": "stdout",
     "output_type": "stream",
     "text": [
      "the sum of x & y = 30\n",
      "the multiplication of x & y= 200\n"
     ]
    }
   ],
   "source": [
    "x=10\n",
    "y=20\n",
    "print('the sum of x & y =',x+y)\n",
    "print('the multiplication of x & y=',x*y)"
   ]
  },
  {
   "cell_type": "code",
   "execution_count": 12,
   "id": "2148ee7f",
   "metadata": {},
   "outputs": [
    {
     "name": "stdout",
     "output_type": "stream",
     "text": [
      "the value of x= 10 & the value of y= 20\n",
      "and the sum of x and y is= 30\n",
      "how many wonders in the world?, the answer is 7\n",
      "if we divide y by x the answer is  2.0 if we divide x by y then answer is 0.5\n",
      "and the product of their answers is= 1.0\n"
     ]
    }
   ],
   "source": [
    "print('the value of x=',x,'& the value of y=',y,)\n",
    "print('and the sum of x and y is=',x+y)\n",
    "print('how many wonders in the world?, the answer is',x-3)\n",
    "print ('if we divide y by x the answer is ',y/x,'if we divide x by y then answer is',x/y)\n",
    "print('and the product of their answers is=',(y/x)*(x/y))"
   ]
  },
  {
   "cell_type": "code",
   "execution_count": 24,
   "id": "9659a9c0",
   "metadata": {},
   "outputs": [
    {
     "name": "stdout",
     "output_type": "stream",
     "text": [
      "x+y whole square is 900\n",
      "the average of x & y is 15.0\n",
      "square of x is 100\n"
     ]
    }
   ],
   "source": [
    "c=x*x+y*y+2*x*y\n",
    "print('x+y whole square is',c)\n",
    "print('the average of x & y is',((x+y)/2))\n",
    "print('square of x is',x*x)"
   ]
  },
  {
   "cell_type": "code",
   "execution_count": null,
   "id": "084f1e5a",
   "metadata": {},
   "outputs": [],
   "source": [
    "\n"
   ]
  }
 ],
 "metadata": {
  "kernelspec": {
   "display_name": "Python 3 (ipykernel)",
   "language": "python",
   "name": "python3"
  },
  "language_info": {
   "codemirror_mode": {
    "name": "ipython",
    "version": 3
   },
   "file_extension": ".py",
   "mimetype": "text/x-python",
   "name": "python",
   "nbconvert_exporter": "python",
   "pygments_lexer": "ipython3",
   "version": "3.9.12"
  }
 },
 "nbformat": 4,
 "nbformat_minor": 5
}
